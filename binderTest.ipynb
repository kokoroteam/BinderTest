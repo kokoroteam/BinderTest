{
 "cells": [
  {
   "cell_type": "code",
   "execution_count": null,
   "id": "16382f96",
   "metadata": {},
   "outputs": [],
   "source": [
    "# This is a test to see if I can make a container that comes up in app mode\n",
    "print('this is a test')"
   ]
  }
 ],
 "metadata": {
  "kernelspec": {
   "display_name": "Python 3 (ipykernel)",
   "language": "python",
   "name": "python3"
  },
  "language_info": {
   "codemirror_mode": {
    "name": "ipython",
    "version": 3
   },
   "file_extension": ".py",
   "mimetype": "text/x-python",
   "name": "python",
   "nbconvert_exporter": "python",
   "pygments_lexer": "ipython3",
   "version": "3.9.12"
  }
 },
 "nbformat": 4,
 "nbformat_minor": 5
}
